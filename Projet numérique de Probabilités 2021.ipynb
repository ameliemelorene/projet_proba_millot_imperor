{
 "cells": [
  {
   "cell_type": "markdown",
   "metadata": {},
   "source": [
    "## Instructions {-}\n",
    "Ce sujet est constitué de deux parties : la partie 1 correspond au sujet donné l'an dernier, dont la correction vous est donnée, la partie 2 constitue la partie qui sera évaluée et se place dans la continuité de la partie 1."
   ]
  },
  {
   "cell_type": "markdown",
   "metadata": {},
   "source": [
    "# Enoncé du problème (Partie 1)\n",
    "\n",
    "L'objectif de ce projet est d'estimer la longueur de câble sous-marin nécessaire pour relier deux côtes $A$ et $B$  en utilisant des simulations conditionnelles.\n",
    "\n",
    "\n",
    "Le câble reposera sur le fond marin dont la profondeur est inconnue.\n",
    "Le segment $[AB]$ est discrétisé par une séquence de (N+1) points. On pose $x_0=A$ et pour $i=1,\\dots,N$, $$x_i=x_0+i\\Delta$$ où $$\\Delta = \\frac{AB}{N}$$ de telle sorte que $x_N=B$.\n",
    "On note $z(x)$ la profondeur du fond marin au point $x$ de telle sorte \n",
    "qu'on pourra estimer la longueur totale de câble nécessaire par la somme \n",
    "des longueurs sur les segments de la discrétisation :\n",
    "\n",
    "$$l=\\sum_{i=1}^N\\sqrt{\\Delta^2+(z(x_i)-z(x_{i-1}))^2}.$$\n",
    "\n",
    "Enfin, notons que l'on dispose d'un ensemble de $n$ observations de la \n",
    "profondeur que l'on supposera situées sur des points de discrétisation $z(x_{j_1}),\\dots,z(x_{j_n})$.\n",
    "\n",
    "\n",
    "On adopte un modèle probabiliste pour la profondeur. On suppose que le vecteur des \n",
    "profondeurs sur les points de discrétisation \n",
    "$\\mathbf{z}=(z(x_0),\\dots,z(x_N))$ est la réalisation\n",
    "d'un vecteur aléatoire gaussien $\\mathbf{Z}=(Z(x_0),\\dots,Z(x_N))$ \n",
    "dont le vecteur d'espérance ne contient qu'une seule valeur $\\mu$ \n",
    "répétée $N+1$ fois et dont la matrice de covariance $\\Sigma$ a pour termes $\\sigma_{ij}$\n",
    "définis par $\\sigma_{ij}=C(|x_i-x_j|)$ où $C$ est une\n",
    "fonction décroissante, traduisant le fait que deux points \n",
    "géographiquement proches ont tendance à avoir des profondeurs plus similaires que deux points éloignés.\n",
    "\n",
    "On supposera que la matrice de covariance ainsi \n",
    "générée est définie-positive (en fait, $C$ sera choisie parmi les fonctions qui, \n",
    "appliquées aux termes d'une matrice de distance, produisent des matrices définie-positives). \n",
    "\n",
    "Si on note $L$ la variable aléatoire donnant la longueur de cable nécessaire : \n",
    "$$L=\\sum_{i=1}^N\\sqrt{\\Delta^2+(Z(x_i)-Z(x_{i-1}))^2},$$\n",
    "un bon estimateur de $L$ est fourni par l'espérance conditionnelle \n",
    "\n",
    "$$L^\\star=E[L|Z(x_{j_1})=z(x_{j_1}),\\dots,Z(x_{j_n})=z(x_{j_n})].$$\n",
    "                                                                              \n",
    "Cependant, cette quantité est difficilement accessible par le calcul. \n",
    "On va donc avoir recours à des\n",
    "simulations conditionnelles. C'est-à-dire que l'on va simuler \n",
    "un nombre $K$ de réalités (disons des réalisations du modèle \n",
    "probabiliste choisi), et sur chacune d'entre elle, \n",
    "la quantité de câble nécessaire sera évaluée. \n",
    "On disposera ainsi d'un échantillon $l_{(1)},\\dots,l_{(K)}$ de \n",
    "longueures simulées. Puis on approchera l'espérance conditionnelle  par \n",
    "$$L^\\star=\\frac1{K}\\sum_{k=1}^K l_{(k)}.$$\n",
    "\n",
    "L'objectif de ce projet est donc d'écrire un code permettant \n",
    "d'effectuer cette simulation conditionnelle, puis de l'appliquer \n",
    "au jeu de données fourni et d'en déduire une estimation de la longueur de câble nécessaire."
   ]
  },
  {
   "cell_type": "markdown",
   "metadata": {},
   "source": [
    "## Données du problème\n",
    "Conventionnellement, $A$ est l'origine, $B=500$, $N=100$.\n",
    "\n",
    "Les données $$\\begin{array}{c|r}i & z(x_i)\\\\\n",
    "\\hline\n",
    "0 & 0\\\\\n",
    "20 & -4\\\\\n",
    "40 & -12.8\\\\\n",
    "60 & -1\\\\\n",
    "80 & -6.5\\\\\n",
    "100 & 0\\end{array}$$\n",
    "\n",
    "L'espérance de chaque composante du vecteur aléatoire $\\mathbf{Z}$ est donnée par $\\mu=-5.$\n",
    "\n",
    "La fonction $C$ est définie par $$C(h)=\\sigma^2 e^{-|h|/a},$$\n",
    "\n",
    "où $|h|$ correspond à la distance entre deux points, $a=50$ et $\\sigma^2=12$.\n"
   ]
  },
  {
   "cell_type": "markdown",
   "metadata": {},
   "source": [
    "# Enoncé 2021 (Partie 2)\n",
    "\n",
    "Nous nous plaçons dans le même cadre que ci-dessus. Nous tenons pour acquis les résultats précédents et allons maintenant approfondir l'analyse."
   ]
  },
  {
   "cell_type": "code",
   "execution_count": 19,
   "metadata": {},
   "outputs": [],
   "source": [
    "#les fonctions de l'année 2020 sont supposés déjà éxécutées à partir d'ici\n",
    "#les revoici\n",
    "\n",
    "import numpy as np\n",
    "import matplotlib.pyplot as plt\n",
    "\n",
    "#Discrétisation\n",
    "A=0\n",
    "B=500\n",
    "N=101 #Nombre de points de discrétisation\n",
    "Delta = (B-A)/(N-1)\n",
    "discretization_indexes = np.arange(N)\n",
    "discretization = discretization_indexes*Delta\n",
    "#Paramètres du modèle\n",
    "\n",
    "mu=-5\n",
    "a = 50\n",
    "sigma2 = 12\n",
    "\n",
    "#Données\n",
    "\n",
    "observation_indexes = [0,20,40,60,80,100]\n",
    "depth = np.array([0,-4,-12.8,-1,-6.5,0])\n",
    "\n",
    "#Indices des composantes correspondant aux observations et aux componsantes non observées\n",
    "\n",
    "unknown_indexes=list(set(discretization_indexes)-set(observation_indexes))\n",
    "\n",
    "#Fonction C\n",
    "\n",
    "def Covexp(dist,rangeval,sigmaval):\n",
    "    return sigmaval * np.exp(-dist/rangeval)\n",
    "\n",
    "distmat=abs(np.subtract.outer(discretization,discretization))\n",
    "\n",
    "Sigma=Covexp(distmat,a,sigma2)\n",
    "\n",
    "SigmaObs = Sigma[observation_indexes,:][:,observation_indexes]\n",
    "SigmaObsUnknown = Sigma[observation_indexes,:][:,unknown_indexes]\n",
    "SigmaUnknown = Sigma[unknown_indexes,:][:,unknown_indexes]\n",
    "\n",
    "invSigma = np.linalg.inv(SigmaObs) \n",
    "Ec= mu+np.matmul(np.transpose(SigmaObsUnknown),np.matmul(np.linalg.inv(SigmaObs),depth-mu))\n",
    "\n",
    "allval1 = np.zeros(N)\n",
    "allval1[unknown_indexes]=Ec\n",
    "allval1[observation_indexes]=depth\n",
    "\n",
    "SigmaCond = SigmaUnknown - np.matmul(np.transpose(SigmaObsUnknown),np.matmul(np.linalg.inv(SigmaObs),SigmaObsUnknown))\n",
    "\n",
    "allval2 = np.zeros(N)\n",
    "allval2[unknown_indexes]=np.diag(SigmaCond)\n",
    "\n",
    "Cholesky = np.linalg.cholesky(SigmaCond)\n",
    "x = np.random.normal(0,1,np.shape(unknown_indexes)[0])\n",
    "simu = Ec + np.matmul(Cholesky,x)\n",
    "\n",
    "allval3 = np.zeros(N)\n",
    "allval3[unknown_indexes]=simu\n",
    "allval3[observation_indexes]=depth\n",
    "\n",
    "def length(z,delta):\n",
    "    return sum(np.sqrt(delta**2+(z[1:N]-z[0:-1])**2))\n",
    "\n",
    "K=10000\n",
    "result = np.zeros(K)\n",
    "for i in range(K):\n",
    "    x=np.random.normal(0,1,np.shape(unknown_indexes)[0])\n",
    "    allval3[unknown_indexes]=Ec + np.matmul(Cholesky,x)\n",
    "    result[i]=length(allval3,Delta)\n",
    "    \n",
    "indice_simu = 1+np.arange(K)\n",
    "\n",
    "Ln = sum(result)/K\n",
    "sigman = np.std(result)"
   ]
  },
  {
   "cell_type": "markdown",
   "metadata": {},
   "source": [
    "## Valeurs positives\n",
    "\n",
    "1. A la question 7 de la partie 1, on peut s'apercevoir que certains profils de profondeur présentent des valeurs positives, ce qui n'a pas de sens si on considère qu'il n'y a pas de partie émergée entre les deux côtes. Proposer et implémenter un algorithme de type rejet qui ne génèrera que des valeurs négatives. Représenter un profil de profondeur généré."
   ]
  },
  {
   "cell_type": "code",
   "execution_count": 20,
   "metadata": {},
   "outputs": [
    {
     "data": {
      "image/png": "[encoded data removed]",
      "text/plain": [
       "<Figure size 432x288 with 1 Axes>"
      ]
     },
     "metadata": {
      "needs_background": "light"
     },
     "output_type": "display_data"
    }
   ],
   "source": [
    "sol=np.zeros(len(discretization))\n",
    "x_rejet = np.random.normal(0,1,np.shape(unknown_indexes)[0])\n",
    "simu_rejet = Ec + np.matmul(Cholesky,x_rejet)\n",
    "allval3_rejet = np.zeros(N)\n",
    "allval3_rejet[unknown_indexes]=simu_rejet\n",
    "def test(rejet,sim):\n",
    "    N=len(rejet)\n",
    "    for i in range(N):\n",
    "        if rejet[i]<sim[i]:\n",
    "            return False\n",
    "    return True\n",
    "\n",
    "while not test(sol,allval3_rejet):\n",
    "    x_rejet = np.random.normal(0,1,np.shape(unknown_indexes)[0])\n",
    "    simu_rejet = Ec + np.matmul(Cholesky,x_rejet)\n",
    "    allval3_rejet = np.zeros(N)\n",
    "    allval3_rejet[unknown_indexes]=simu_rejet\n",
    "    \n",
    "allval3_rejet[observation_indexes]=depth\n",
    "plt.plot(discretization,allval3_rejet)\n",
    "plt.plot(discretization,allval1)\n",
    "plt.plot(discretization,sol)\n",
    "plt.plot(discretization[observation_indexes], depth, 'ro')\n",
    "plt.show()\n",
    "\n"
   ]
  },
  {
   "cell_type": "markdown",
   "metadata": {},
   "source": [
    "2. L'emploi de cet algorithme a-t-il un impact sur la valeur moyenne de la longueur de câble ? Sur l'histogramme des longueurs de câble ? Sur l'intervalle de confiance obtenu par la méthode des quantiles ? Sur la probabilité de dépassement du seuil de 525 m? Donner une estimation du taux de rejet de l'algorithme. Considérer 10000 simulations."
   ]
  },
  {
   "cell_type": "code",
   "execution_count": 22,
   "metadata": {},
   "outputs": [
    {
     "data": {
      "text/plain": [
       "96.20907698606457"
      ]
     },
     "execution_count": 22,
     "metadata": {},
     "output_type": "execute_result"
    }
   ],
   "source": [
    "K=10000\n",
    "#calcul du taux de rejet\n",
    "nbrExecution=0\n",
    "result_rejet=np.zeros(K)\n",
    "for i in range(K):\n",
    "    x_rejet = np.random.normal(0,1,np.shape(unknown_indexes)[0])\n",
    "    simu_rejet = Ec + np.matmul(Cholesky,x_rejet)\n",
    "    allval3_rejet = np.zeros(N)\n",
    "    allval3_rejet[unknown_indexes]=simu_rejet\n",
    "    nbrExecution+=1\n",
    "    \n",
    "    while not test(sol,allval3_rejet):\n",
    "        x_rejet = np.random.normal(0,1,np.shape(unknown_indexes)[0])\n",
    "        simu_rejet = Ec + np.matmul(Cholesky,x_rejet)\n",
    "        allval3_rejet = np.zeros(N)\n",
    "        allval3_rejet[unknown_indexes]=simu_rejet\n",
    "        nbrExecution+=1\n",
    "    \n",
    "    allval3_rejet[observation_indexes]=depth\n",
    "    result_rejet[i]=length(allval3_rejet,Delta)\n",
    "((nbrExecution-K)/nbrExecution)*100"
   ]
  },
  {
   "cell_type": "code",
   "execution_count": 23,
   "metadata": {},
   "outputs": [
    {
     "data": {
      "text/plain": [
       "522.4101376313853"
      ]
     },
     "execution_count": 23,
     "metadata": {},
     "output_type": "execute_result"
    }
   ],
   "source": [
    "#ancienne valeur moyenne, calculée par simulation  conditionnelle sans rejet\n",
    "sum(result)/K"
   ]
  },
  {
   "cell_type": "code",
   "execution_count": 24,
   "metadata": {},
   "outputs": [
    {
     "data": {
      "text/plain": [
       "521.7923965197785"
      ]
     },
     "execution_count": 24,
     "metadata": {},
     "output_type": "execute_result"
    }
   ],
   "source": [
    "#nouvelle valeur moyenne, calculée par simulation conditionnelle avec rejet\n",
    "sum(result_rejet)/K"
   ]
  },
  {
   "cell_type": "code",
   "execution_count": 25,
   "metadata": {},
   "outputs": [
    {
     "data": {
      "image/png": "[encoded data removed]",
      "text/plain": [
       "<Figure size 432x288 with 1 Axes>"
      ]
     },
     "metadata": {
      "needs_background": "light"
     },
     "output_type": "display_data"
    }
   ],
   "source": [
    "#tracé de l'histogramme sans rejet\n",
    "plt.hist(result,50,density=True)\n",
    "plt.show()"
   ]
  },
  {
   "cell_type": "code",
   "execution_count": 26,
   "metadata": {},
   "outputs": [
    {
     "data": {
      "image/png": "[encoded data removed]",
      "text/plain": [
       "<Figure size 432x288 with 1 Axes>"
      ]
     },
     "metadata": {
      "needs_background": "light"
     },
     "output_type": "display_data"
    }
   ],
   "source": [
    "#tracé de l'histogramme avec rejet\n",
    "plt.hist(result_rejet,50,density=True)\n",
    "plt.show()"
   ]
  },
  {
   "cell_type": "code",
   "execution_count": 27,
   "metadata": {},
   "outputs": [
    {
     "data": {
      "text/plain": [
       "array([517.06448858, 528.41841307])"
      ]
     },
     "execution_count": 27,
     "metadata": {},
     "output_type": "execute_result"
    }
   ],
   "source": [
    "#intervalle de confiance sans rejet\n",
    "np.quantile(result,[0.025,0.975])"
   ]
  },
  {
   "cell_type": "code",
   "execution_count": 28,
   "metadata": {},
   "outputs": [
    {
     "data": {
      "text/plain": [
       "array([516.67479893, 527.76204508])"
      ]
     },
     "execution_count": 28,
     "metadata": {},
     "output_type": "execute_result"
    }
   ],
   "source": [
    "#intervalle de confiance avec rejet\n",
    "np.quantile(result_rejet,[0.025,0.975])"
   ]
  },
  {
   "cell_type": "code",
   "execution_count": 29,
   "metadata": {},
   "outputs": [
    {
     "data": {
      "text/plain": [
       "0.1824"
      ]
     },
     "execution_count": 29,
     "metadata": {},
     "output_type": "execute_result"
    }
   ],
   "source": [
    "#probabilité de dépassement du seuil de 525m sans rejet\n",
    "np.mean(result>525)"
   ]
  },
  {
   "cell_type": "code",
   "execution_count": 30,
   "metadata": {},
   "outputs": [
    {
     "data": {
      "text/plain": [
       "0.1316"
      ]
     },
     "execution_count": 30,
     "metadata": {},
     "output_type": "execute_result"
    }
   ],
   "source": [
    "#probabilité de dépassement du seuil de 525m avec rejet\n",
    "np.mean(result_rejet>525)"
   ]
  },
  {
   "cell_type": "markdown",
   "metadata": {},
   "source": [
    "## Approche Bayésienne\n",
    "\n",
    "Dans la première partie, on a considéré que l'ensemble des paramètres du modèle était parfaitement connu. Toutes choses égales par ailleurs, on va maintenant considérer que la moyenne $\\mu$ est issue d'une estimation entâchée d'une incertitude. Plus précisément, on va modéliser cette incertitude en considérant que $\\mu \\sim \\mathcal{N}(-5,4)$.\n",
    "\n",
    "On va également décomposer le vecteur $\\mathbf{Z}$ en $\\mathbf{Z} = (\\mathbf{Z}_{\\text{OBS}},\\mathbf{Z}_{\\text{UNK}})$. On notera $C_{\\text{OBS}}$ et $C_{\\text{UNK}}$ les matrices de covariance respectives de $\\mathbf{Z}_{\\text{OBS}}$ et $\\mathbf{Z}_{\\text{UNK}}$ ainsi que $C_{\\text{OBS},\\text{UNK}}$ la matrice des covariances entre ces deux vecteurs.\n",
    "\n",
    "### Questions théoriques\n",
    "\n",
    "3. Montrer que $\\mu | \\mathbf{Z}_{\\text{OBS}}= \\mathbf{z}_{\\text{OBS}} \\sim \\mathcal{N}(\\widehat{\\mu},\\widehat{\\sigma}^2)$ avec\n",
    "$$\\widehat{\\sigma}^2 = (\\mathbf{1}^t C_{\\text{OBS}}^{-1} \\mathbf{1} + \\frac1{4})^{-1},$$ \n",
    "où $\\mathbf{1}$ est un vecteur de longueur 6 (soit la longueur du vecteur $\\mathbf{Z}_{\\text{OBS}}$) ne contenant que des 1 et \n",
    "$$\\widehat{\\mu} = \\widehat{\\sigma}^2 (\\mathbf{1}^t C_{\\text{OBS}}^{-1} \\mathbf{z}_{\\text{OBS}} - \\frac{5}{4} )$$\n",
    "Indication : écrire la densité jointe du vecteur $(\\mathbf{Z}_{\\text{OBS}},\\mu)$, calculer $-2 \\ln$ de cette densité puis identifier la forme quadratique faisant intervenir $\\mu$."
   ]
  },
  {
   "cell_type": "markdown",
   "metadata": {},
   "source": [
    "Ecrivons la densité jointe du vecteur $(\\mathbf{Z}_{\\text{OBS}},\\mu)$ <br> $f_{\\mathbf{Z}_{\\text{OBS}},\\mu}(z_\\text{OBS},\\mu^\\star)=f_\\mu(\\mu^\\star)f_{\\mathbf{Z}_{\\text{OBS}}|{\\mu=\\mu^\\star}}(z_\\text{OBS})$ <br> On sait que $\\mu$ suite une loi normale, donc $f_\\mu(\\mu^\\star)$ est connu et vaut: <br> $f_\\mu(\\mu^\\star)={{1}\\over{2\\sqrt{2\\pi}}}\\exp{-\\frac{(5+\\mu^\\star)^2}{8}}$<br> Et,$\\mathbf{Z}_{\\text{OBS}}$ est un vecteur gaussien de taille, la longueur d'observation_indexes,soit $6$. D'où,<br> $f_{\\mathbf{Z}_{\\text{OBS}}|{\\mu=\\mu^\\star}}(z_\\text{OBS})= {{1}\\over{(2\\pi)^3\\sqrt{det(\\mathbf{C}_{\\text{OBS}})}}}\\exp({{-1}\\over{2}}(z_{\\text{OBS}}-\\mu{^\\star}\\mathbf{1})^t C_{\\text{OBS}}^{-1} ({z}_{\\text{OBS}}-\\mu{^\\star}\\mathbf{1}) $ <br>\n",
    "On a donc $f_{\\mathbf{Z}_{\\text{OBS}},\\mu}(z_\\text{OBS},\\mu^\\star)={{1}\\over{2\\sqrt{2\\pi}}}\\exp{-\\frac{(5+\\mu^\\star)^2}{8}}{{1}\\over{(2\\pi)^3\\sqrt{det(\\mathbf{C}_{\\text{OBS}})}}}\\exp({{-1}\\over{2}}(z_{\\text{OBS}}-\\mu{^\\star}\\mathbf{1})^t C_{\\text{OBS}}^{-1} ({z}_{\\text{OBS}}-\\mu{^\\star}\\mathbf{1})$"
   ]
  },
  {
   "cell_type": "markdown",
   "metadata": {},
   "source": [
    "Et, $f_{\\mathbf{Z}_{\\text{OBS}},\\mu}(z_\\text{OBS},\\mu^\\star)=f_{\\mathbf{Z}_{\\text{OBS}}}(z_\\text{OBS})f_{\\mu|\\mathbf{Z}_{\\text{OBS}}=z_\\text{OBS}}(\\mu^\\star)$ <br> D'où, <br> $-2\\ln(f_{\\mathbf{Z}_{\\text{OBS}}}(z_\\text{OBS})f_{\\mu|\\mathbf{Z}_{\\text{OBS}}=z_\\text{OBS}}(\\mu^\\star))=-2\\ln({{1}\\over{2\\sqrt{2\\pi}}}\\exp{-\\frac{(5+\\mu^\\star)^2}{8}}{{1}\\over{(2\\pi)^3\\sqrt{det(\\mathbf{C}_{\\text{OBS}})}}}\\exp({{-1}\\over{2}}(z_{\\text{OBS}}-\\mu{^\\star}\\mathbf{1})^t C_{\\text{OBS}}^{-1} ({z}_{\\text{OBS}}-\\mu{^\\star}\\mathbf{1}))$"
   ]
  },
  {
   "cell_type": "markdown",
   "metadata": {},
   "source": [
    "$-2\\ln(f_{\\mathbf{Z}_{\\text{OBS}}}(z_\\text{OBS})f_{\\mu|\\mathbf{Z}_{\\text{OBS}}=z_\\text{OBS}}(\\mu^\\star))=2\\ln{2}+6\\ln{2\\pi}+\\ln{2det(\\mathbf{C}_{\\text{OBS}})}+{{25}\\over{4}}+{{{\\mu^\\star}^2}\\over{4}}+{{5{\\mu^\\star}}\\over{2}}+{z_{\\text{OBS}}}^t C_{\\text{OBS}}^{-1} {z}_{\\text{OBS}}$$-{\\mu{^\\star}\\mathbf{1}}^t C_{\\text{OBS}}^{-1} {z}_{\\text{OBS}}$$-{z_{\\text{OBS}}}^t C_{\\text{OBS}}^{-1}\\mu{^\\star}\\mathbf{1}+{\\mu{^\\star}}^2{\\mathbf{1}}^t C_{\\text{OBS}}^{-1}\\mathbf{1}$"
   ]
  },
  {
   "cell_type": "markdown",
   "metadata": {},
   "source": [
    "On identifie les termes ne faisant pas apparaître $\\mu^\\star$ à $-2\\ln(f_{\\mathbf{Z}_{\\text{OBS}}}(z_\\text{OBS}))$ ainsi qu'aux autres constantes de proportionnalité apparaissant aussi dans la loi normale, et les termes restant sont identifiés à $-2\\ln(f_{\\mu|\\mathbf{Z}_{\\text{OBS}}=z_\\text{OBS}}(\\mu^\\star)))$ pour la partie quadratique en $\\mu^\\star$"
   ]
  },
  {
   "cell_type": "markdown",
   "metadata": {},
   "source": [
    "Soit :<br> $-2\\ln(f_{\\mu|\\mathbf{Z}_{\\text{OBS}}=z_\\text{OBS}}(\\mu^\\star)))={{{\\mu^\\star}^2}\\over{4}}+{{5{\\mu^\\star}}\\over{2}}-{\\mu{^\\star}\\mathbf{1}}^t C_{\\text{OBS}}^{-1} {z}_{\\text{OBS}}-{z_{\\text{OBS}}}^t C_{\\text{OBS}}^{-1}\\mu{^\\star}\\mathbf{1}+{\\mu{^\\star}}^2{\\mathbf{1}}^t C_{\\text{OBS}}^{-1}\\mathbf{1}+\\text{constante qui ne nous intéresse pas}$"
   ]
  },
  {
   "cell_type": "markdown",
   "metadata": {},
   "source": [
    "Comme ${\\mu{^\\star}\\mathbf{1}}^t C_{\\text{OBS}}^{-1} {z}_{\\text{OBS}} $ est réel, il est égal à sa transposée et car la matrice de covariance est symétrique, d'où ${\\mu{^\\star}\\mathbf{1}}^t C_{\\text{OBS}}^{-1} {z}_{\\text{OBS}}={z_{\\text{OBS}}}^t C_{\\text{OBS}}^{-1}\\mu{^\\star}\\mathbf{1}$"
   ]
  },
  {
   "cell_type": "markdown",
   "metadata": {},
   "source": [
    "$-2\\ln(f_{\\mu|\\mathbf{Z}_{\\text{OBS}}=z_\\text{OBS}}(\\mu^\\star)))={{{\\mu^\\star}^2}\\over{4}}+{{5{\\mu^\\star}}\\over{2}}-2{\\mu{^\\star}\\mathbf{1}}^t C_{\\text{OBS}}^{-1} {z}_{\\text{OBS}}+{\\mu{^\\star}}^2{\\mathbf{1}}^t C_{\\text{OBS}}^{-1}\\mathbf{1}+\\text{constante qui ne nous intéresse pas}$"
   ]
  },
  {
   "cell_type": "markdown",
   "metadata": {},
   "source": [
    "On rappelle, qu'une loi normale $\\mathcal{N}(\\widehat{\\mu},\\widehat{\\sigma}^2)$ aurait comme densité $f$ telle que: <br> $-2\\ln(f(\\mu^\\star))=2\\ln(\\sqrt{2\\pi}{\\widehat{\\sigma}})+{{(\\mu^\\star-\\widehat{\\mu})^2}\\over{2{\\widehat{\\sigma}}^2}}$<br>$-2\\ln(f(\\mu^\\star))=\\ln({2\\pi}{\\widehat{\\sigma}^2})+{{(\\mu^\\star-\\widehat{\\mu})^2}\\over{2{\\widehat{\\sigma}}^2}}$<br>$-2\\ln(f(\\mu^\\star))=\\ln({2\\pi}(\\mathbf{1}^t C_{\\text{OBS}}^{-1} \\mathbf{1} + \\frac1{4})^{-1})+{{(\\mu^\\star-\\widehat{\\mu})^2}\\over{2{\\widehat{\\sigma}}^2}}$<br>$-2\\ln(f(\\mu^\\star))=\\ln({2\\pi}(\\mathbf{1}^t C_{\\text{OBS}}^{-1} \\mathbf{1} + \\frac1{4})^{-1})+{{(\\mu^\\star-\\widehat{\\sigma}^2 (\\mathbf{1}^t C_{\\text{OBS}}^{-1} \\mathbf{z}_{\\text{OBS}} - \\frac{5}{4} ))^2}\\over{2{\\widehat{\\sigma}}^2}}$<br>$-2\\ln(f(\\mu^\\star))=\\ln({2\\pi}(\\mathbf{1}^t C_{\\text{OBS}}^{-1} \\mathbf{1} + \\frac1{4})^{-1})+{{(\\mu^\\star-{(\\mathbf{1}^t C_{\\text{OBS}}^{-1} \\mathbf{1} + \\frac1{4})^{-1}} (\\mathbf{1}^t C_{\\text{OBS}}^{-1} \\mathbf{z}_{\\text{OBS}} - \\frac{5}{4} ))^2}\\over{2(\\mathbf{1}^t C_{\\text{OBS}}^{-1} \\mathbf{1} + \\frac1{4})^{-1}}}$ "
   ]
  },
  {
   "cell_type": "markdown",
   "metadata": {},
   "source": [
    "On ne s'intéresse encore une fois qu'à la partie quadratique en $\\mu^\\star$.<br> Soit $-2\\ln(f(\\mu^\\star))={{{\\mu^\\star}^2}\\over{2}}(\\mathbf{1}^t C_{\\text{OBS}}^{-1} \\mathbf{1} + \\frac1{4})+\\mu^\\star(\\mathbf{1}^t C_{\\text{OBS}}^{-1} \\mathbf{z}_{\\text{OBS}} - \\frac{5}{4} )+\\text{autre constante qui ne nous intéresse pas}$"
   ]
  },
  {
   "cell_type": "markdown",
   "metadata": {},
   "source": [
    "On peut alors identifier $f_{\\mu | \\mathbf{Z}_{\\text{OBS}}= \\mathbf{z}_{\\text{OBS}}} $ à une loi normale de paramètres $(\\widehat{\\mu},\\widehat{\\sigma}^2)$."
   ]
  },
  {
   "cell_type": "markdown",
   "metadata": {},
   "source": [
    "4. Montrer que si $X$, $Y$ et $Z$ sont trois vecteurs aléatoires à densité, alors $f_{X,Y|Z = z}(x,y) = f_{X|Y=y,Z=z}(x)f_{Y|Z=Z}(y)$"
   ]
  },
  {
   "cell_type": "markdown",
   "metadata": {},
   "source": [
    "Soit $V=(X,Y)$.<br>Alors $f_{V,Z}(x,y,z)=f_{V|Z=z}(x,y)f_{Z}(z)=f_{X|Y=y,Z=z}(x)f_{Y|Z=z}(y)f_{Z}(z)$\n",
    "        Ceci est vrai pour tout $z$, si $z=0$, le résultat est trivial, sinon on simplifie par $f_{Z}(z)$. D'où le résultat, $f_{X,Y|Z = z}(x,y) = f_{X|Y=y,Z=z}(x)f_{Y|Z=Z}(y)$."
   ]
  },
  {
   "cell_type": "markdown",
   "metadata": {},
   "source": [
    "5. En déduire que la densité de $(\\mathbf{Z}_{\\text{UNK}},\\mu) | \\mathbf{Z}_{\\text{OBS}} = \\mathbf{z}_{\\text{OBS}}$ s'écrit comme le produit de $f_{\\mu | \\mathbf{Z}_{\\text{OBS}} = \\mathbf{z}_{\\text{OBS}}}$ et de $f_{\\mathbf{Z}_{\\text{UNK}}| \\mu = \\mu^\\star, \\mathbf{Z}_{\\text{OBS}} = \\mathbf{z}_{\\text{OBS}}}$ que l'on exprimera.\n",
    "\n",
    "    Indication : $f_{\\mathbf{Z}_{\\text{UNK}}| \\mu = \\mu^\\star, \\mathbf{Z}_{\\text{OBS}} = \\mathbf{z}_{\\text{OBS}}}$ est identique à la densité $f_{\\mathbf{Z}_{\\text{UNK}}| \\mathbf{Z}_{\\text{OBS}} = \\mathbf{z}_{\\text{OBS}}}$ utilisée dans la partie 1 avec $\\mu = \\mu^\\star$"
   ]
  },
  {
   "cell_type": "markdown",
   "metadata": {},
   "source": [
    "On applique le résultat de la question $4$ avec $X=\\mathbf{Z}_{\\text{UNK}}$, $Y=\\mu$ et $Z=\\mathbf{Z}_{\\text{OBS}}$ <br> Alors, $f_{\\mathbf{Z}_{\\text{UNK}},\\mu|\\mathbf{Z}_{\\text{OBS}} =\\mathbf{z}_{\\text{OBS}}}(\\mathbf{z}_{\\text{UNK}},\\mu^\\star) = f_{\\mathbf{Z}_{\\text{UNK}}| \\mu = \\mu^\\star}\\mathbf{Z}_{\\text{OBS}}(\\mathbf{z}_{\\text{UNK}})f_{\\mu|\\mathbf{Z}_{\\text{OBS}} =\\mathbf{z}_{\\text{OBS}}}(\\mu^\\star)$ <br> Explicitons ce résultat.<br>$f_{\\mu|\\mathbf{Z}_{\\text{OBS}} =\\mathbf{z}_{\\text{OBS}}}(\\mu^\\star)$ suit une gaussienne comme dit précédemment. Et, $f_{\\mathbf{Z}_{\\text{UNK}}| \\mu = \\mu^\\star}\\mathbf{Z}_{\\text{OBS}}(\\mathbf{z}_{\\text{UNK}})$ suit la loi que l'on retrouve page $18$ de probabilités III avec $\\mu^\\star$ au lieu de $\\mu$.<br> Soit, $$f_{\\mathbf{Z}_{\\text{UNK}}| \\mu = \\mu^\\star}\\mathbf{Z}_{\\text{OBS}}(\\mathbf{z}_{\\text{UNK}})={{1}\\over{(2\\pi)^{(N+1-6)/2}\\sqrt{det(C_\\text{UNK}-C_{\\text{OBS},\\text{UNK}}C_\\text{OBS}^{-1}C_{\\text{OBS},\\text{UNK}}})}}\\exp(-{{1}\\over{2}}({z_\\text{UNK}-\\mu^\\star+C_{\\text{OBS},\\text{UNK}}C_\\text{OBS}^{-1}(z_\\text{UNK}-\\mu^\\star)}^t+{C_\\text{UNK}-C_{\\text{OBS},\\text{UNK}}C_\\text{OBS}^{-1}C_{\\text{OBS},\\text{UNK}}}^{-1}z_\\text{UNK}-\\mu^\\star+C_{\\text{OBS},\\text{UNK}}C_\\text{OBS}^{-1}(z_\\text{UNK}-\\mu^\\star))$$\n"
   ]
  },
  {
   "cell_type": "markdown",
   "metadata": {},
   "source": [
    "### Simulation\n",
    "\n",
    "On va maintenant chercher à simuler les valeurs de $\\mathbf{Z}_{\\text{UNK}}$ en tenant compte de l'incertitude sur $\\mu$.\n",
    "\n",
    "En première approche, on pourrait chercher à obtenir la densité de $\\mathbf{Z}_{\\text{UNK}} | \\mathbf{Z}_{\\text{OBS}} = \\mathbf{z}_{\\text{OBS}}$ en calculant \n",
    "$$\\int_\\mathbb{R} f_{(\\mathbf{Z}_{\\text{UNK}},\\mu) | \\mathbf{Z}_{\\text{OBS}} = \\mathbf{z}_{\\text{OBS}}}(\\mathbf{z}_{\\text{UNK}},\\mu^\\star) d\\mu^\\star$$\n",
    "mais ce calcul a peu de chances d'aboutir.\n",
    "\n",
    "On va plutôt procéder par simulations en cascade, c'est-à-dire que pour chaque simulation de $\\mathbf{Z}_{\\text{UNK}}$, on va d'abord générer une valeur $\\mu^\\star$ de $\\mu$ selon $f_{\\mu | \\mathbf{Z}_{\\text{OBS}}= \\mathbf{z}_{\\text{OBS}}}$ puis on simulera $\\mathbf{Z}_{\\text{UNK}}$ selon $f_{\\mathbf{Z}_{\\text{UNK}}| \\mathbf{Z}_{\\text{OBS}} = \\mathbf{z}_{\\text{OBS}},\\mu = \\mu^\\star}$.\n"
   ]
  },
  {
   "cell_type": "markdown",
   "metadata": {},
   "source": [
    "6. Calculer $\\widehat{\\mu}$ et $\\widehat{\\sigma}^2$. "
   ]
  },
  {
   "cell_type": "code",
   "execution_count": 15,
   "metadata": {},
   "outputs": [
    {
     "data": {
      "text/plain": [
       "(-4.291350330933772, 1.5368909974762894)"
      ]
     },
     "execution_count": 15,
     "metadata": {},
     "output_type": "execute_result"
    }
   ],
   "source": [
    "sigma_carre_chapeau= 1/(np.matmul(np.matmul(np.ones(6).transpose(), np.linalg.inv(SigmaObs)),np.ones(6))+1/4)\n",
    "mu_chapeau = sigma_carre_chapeau*(np.matmul(np.matmul(np.ones(6).transpose(), np.linalg.inv(SigmaObs)), depth)-5/4)\n",
    "mu_chapeau,sigma_carre_chapeau"
   ]
  },
  {
   "cell_type": "markdown",
   "metadata": {},
   "source": [
    "7. Calculer la probabilité de $\\{\\mu| \\mathbf{Z}_{\\text{OBS}} = \\mathbf{z}_{\\text{OBS}} > 0\\}$. Proposer et implémenter un algorithme de simulation de $\\mu| \\mathbf{Z}_{\\text{OBS}} = \\mathbf{z}_{\\text{OBS}}, \\mu <0$."
   ]
  },
  {
   "cell_type": "markdown",
   "metadata": {},
   "source": [
    "On rappelle que $\\mu | \\mathbf{Z}_{\\text{OBS}}= \\mathbf{z}_{\\text{OBS}} \\sim \\mathcal{N}(\\widehat{\\mu},\\widehat{\\sigma}^2)$. Comme on ne connaît pas aisément la fonction de répartition d'une loi normale, on va calculer à l'aide d'un algorithme de simulation la probabilité demandée."
   ]
  },
  {
   "cell_type": "code",
   "execution_count": 20,
   "metadata": {},
   "outputs": [],
   "source": [
    "def loi_normale(x):\n",
    "    return np.exp(-(x-mu_chapeau)**2/(2*sigma_carre_chapeau)) / (np.sqrt(2*np.pi*sigma_carre_chapeau))\n"
   ]
  },
  {
   "cell_type": "code",
   "execution_count": 21,
   "metadata": {},
   "outputs": [],
   "source": [
    "from scipy.integrate import quad "
   ]
  },
  {
   "cell_type": "code",
   "execution_count": 23,
   "metadata": {},
   "outputs": [
    {
     "data": {
      "text/plain": [
       "0.0002685226388166117"
      ]
     },
     "execution_count": 23,
     "metadata": {},
     "output_type": "execute_result"
    }
   ],
   "source": [
    "quad(loi_normale,0,np.inf)[0]"
   ]
  },
  {
   "cell_type": "code",
   "execution_count": 24,
   "metadata": {},
   "outputs": [],
   "source": [
    "def simu_loi_normale_negative():\n",
    "    negatif = False\n",
    "    while not negatif:\n",
    "        valeur = np.random.normal(mu_chapeau,sigma_carre_chapeau)\n",
    "        if valeur < 0:\n",
    "            negatif=True\n",
    "    return valeur\n",
    "        "
   ]
  },
  {
   "cell_type": "markdown",
   "metadata": {},
   "source": [
    "On constate qu'il est très improbable que la variable aléatoire soit positive."
   ]
  },
  {
   "cell_type": "markdown",
   "metadata": {},
   "source": [
    "8. Générer un couple $\\mathbf{Z}_{\\text{UNK}}, \\mu| \\mathbf{Z}_{\\text{OBS}}, \\mu <0$ et représenter le profil de profondeur obtenu. On prendra soin de ne générer que des valeurs négatives de $\\mathbf{Z}_{\\text{UNK}}$ en utilisant l'algorithme de la section précédente."
   ]
  },
  {
   "cell_type": "markdown",
   "metadata": {},
   "source": [
    "Comme vu à la question 5, on sait que "
   ]
  },
  {
   "cell_type": "markdown",
   "metadata": {},
   "source": [
    "9. Générer 10000 profils de profondeur et calculer les longueurs de câble associées. Comparer la valeur moyenne de la longueur de câble, dont on visualisera la convergence, l'histogramme des longueurs de câble, l'intervalle de confiance obtenu par la méthode des quantiles, la probabilité de dépassement du seuil de 525 m avec les résultats obtenus précédemment. Commenter."
   ]
  },
  {
   "cell_type": "markdown",
   "metadata": {},
   "source": [
    "10. Qu'adviendrait-il selon vous si on rendait également aléatoires les autres paramètres du modèle $\\sigma^2$ et $a$ ?"
   ]
  },
  {
   "cell_type": "markdown",
   "metadata": {},
   "source": [
    "11. (facultatif) On suppose désormais que $\\alpha = \\frac1{\\sigma^2} \\sim \\Gamma(a_1,a_2)$, où $\\sigma^2$ correspond au paramètre qui intervient dans la fonction $C$. Donner l'expression de la densité de $\\alpha | \\mathbf{Z}_{\\text{OBS}} = \\mathbf{z}_{\\text{OBS}}$,  de $\\mu | \\alpha, \\mathbf{Z}_{\\text{OBS}} = \\mathbf{z}_{\\text{OBS}},$ et de $\\mathbf{Z}_{\\text{UNK}} | \\mu, \\alpha, \\mathbf{Z}_{\\text{OBS}} = \\mathbf{z}_{\\text{OBS}}$. Proposer un algorithme de simulation tenant compte de l'incertitude sur le paramètre $\\alpha$ et analyser son impact sur les différentes quantités évaluées.\n",
    "\n",
    "    Indication : Pour identifier la densité de $\\alpha | \\mathbf{Z}_{\\text{OBS}} = \\mathbf{z}_{\\text{OBS}}$, exprimer d'abord la densité jointe de $(\\alpha,\\mu, \\mathbf{Z}_{\\text{OBS}})$ puis marginaliser pour obtenir la densité de $(\\alpha,\\mathbf{Z}_{\\text{OBS}})$\n"
   ]
  }
 ],
 "metadata": {
  "@webio": {
   "lastCommId": "5ceb69a5bbd14071b254c2439a58ac4b",
   "lastKernelId": "0e923419-c540-42c1-ab5f-d0e05ff4521c"
  },
  "kernelspec": {
   "display_name": "Python 3",
   "language": "python",
   "name": "python3"
  },
  "language_info": {
   "codemirror_mode": {
    "name": "ipython",
    "version": 3
   },
   "file_extension": ".py",
   "mimetype": "text/x-python",
   "name": "python",
   "nbconvert_exporter": "python",
   "pygments_lexer": "ipython3",
   "version": "3.8.3"
  }
 },
 "nbformat": 4,
 "nbformat_minor": 2
}
